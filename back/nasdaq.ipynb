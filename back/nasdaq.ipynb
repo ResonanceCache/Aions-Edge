{
 "cells": [
  {
   "cell_type": "code",
   "execution_count": 3,
   "metadata": {},
   "outputs": [
    {
     "data": {
      "text/plain": [
       "'221 Goodbye.'"
      ]
     },
     "execution_count": 3,
     "metadata": {},
     "output_type": "execute_result"
    }
   ],
   "source": [
    "from ftplib import FTP\n",
    "import os\n",
    "ftp = FTP('ftp.nasdaqtrader.com')\n",
    "\n",
    "ftp.login('anonymous', '')\n",
    "ftp.cwd('SymbolDirectory')\n",
    "files_to_download = ['nasdaqlisted.txt', 'otherlisted.txt']\n",
    "for file in files_to_download:\n",
    "  with open(file, 'wb') as f:\n",
    "    ftp.retrbinary(f'RETR {file}', f.write)\n",
    "ftp.quit()"
   ]
  },
  {
   "cell_type": "code",
   "execution_count": null,
   "metadata": {},
   "outputs": [],
   "source": []
  }
 ],
 "metadata": {
  "kernelspec": {
   "display_name": "venv",
   "language": "python",
   "name": "python3"
  },
  "language_info": {
   "codemirror_mode": {
    "name": "ipython",
    "version": 3
   },
   "file_extension": ".py",
   "mimetype": "text/x-python",
   "name": "python",
   "nbconvert_exporter": "python",
   "pygments_lexer": "ipython3",
   "version": "3.9.0"
  }
 },
 "nbformat": 4,
 "nbformat_minor": 2
}
